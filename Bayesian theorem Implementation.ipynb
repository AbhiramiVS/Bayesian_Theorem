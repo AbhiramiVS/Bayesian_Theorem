{
 "cells": [
  {
   "cell_type": "code",
   "execution_count": 22,
   "id": "afbaad8a",
   "metadata": {},
   "outputs": [],
   "source": [
    "import numpy as np\n",
    "import pandas as pd\n",
    "from sklearn.datasets import load_iris,load_breast_cancer,load_wine\n",
    "from sklearn.model_selection import train_test_split\n",
    "from sklearn.naive_bayes import GaussianNB\n",
    "from sklearn.metrics import accuracy_score\n",
    "from scipy.stats import norm"
   ]
  },
  {
   "cell_type": "raw",
   "id": "b5105d74",
   "metadata": {},
   "source": [
    "The data is the results of a chemical analysis of wines grown in the same region in Italy by three different cultivators. There are thirteen different measurements taken for different constituents found in the three types of wine."
   ]
  },
  {
   "cell_type": "code",
   "execution_count": 13,
   "id": "e8c579e2",
   "metadata": {},
   "outputs": [],
   "source": [
    "data = load_wine()\n",
    "x, y, column_names = data['data'], data['target'], data['feature_names']\n",
    "x = pd.DataFrame(x, columns = column_names)"
   ]
  },
  {
   "cell_type": "code",
   "execution_count": 14,
   "id": "e2e32a54",
   "metadata": {},
   "outputs": [],
   "source": [
    "from sklearn.model_selection import train_test_split\n",
    "\n",
    "x_train, x_val, y_train, y_val = train_test_split(x, y, test_size=0.33, random_state = 44)"
   ]
  },
  {
   "cell_type": "code",
   "execution_count": 26,
   "id": "22d40521",
   "metadata": {},
   "outputs": [
    {
     "data": {
      "text/plain": [
       "(178, 13)"
      ]
     },
     "execution_count": 26,
     "metadata": {},
     "output_type": "execute_result"
    }
   ],
   "source": [
    "x.shape"
   ]
  },
  {
   "cell_type": "code",
   "execution_count": 23,
   "id": "56292563",
   "metadata": {},
   "outputs": [
    {
     "data": {
      "text/plain": [
       "(119, 13)"
      ]
     },
     "execution_count": 23,
     "metadata": {},
     "output_type": "execute_result"
    }
   ],
   "source": [
    "x_train.shape"
   ]
  },
  {
   "cell_type": "code",
   "execution_count": 27,
   "id": "a74a1b76",
   "metadata": {},
   "outputs": [
    {
     "data": {
      "text/plain": [
       "(119,)"
      ]
     },
     "execution_count": 27,
     "metadata": {},
     "output_type": "execute_result"
    }
   ],
   "source": [
    "y_train.shape"
   ]
  },
  {
   "cell_type": "code",
   "execution_count": 24,
   "id": "8d85bfcf",
   "metadata": {},
   "outputs": [
    {
     "data": {
      "text/plain": [
       "(59, 13)"
      ]
     },
     "execution_count": 24,
     "metadata": {},
     "output_type": "execute_result"
    }
   ],
   "source": [
    "x_val.shape"
   ]
  },
  {
   "cell_type": "code",
   "execution_count": 28,
   "id": "40c09f2f",
   "metadata": {},
   "outputs": [
    {
     "data": {
      "text/plain": [
       "(59,)"
      ]
     },
     "execution_count": 28,
     "metadata": {},
     "output_type": "execute_result"
    }
   ],
   "source": [
    "y_val.shape"
   ]
  },
  {
   "cell_type": "markdown",
   "id": "78c9d3c6",
   "metadata": {},
   "source": [
    "### Sklearn Gaussian Implemetation"
   ]
  },
  {
   "cell_type": "code",
   "execution_count": 21,
   "id": "0e7b3a36",
   "metadata": {},
   "outputs": [
    {
     "name": "stdout",
     "output_type": "stream",
     "text": [
      "Accuracy: 0.9491525423728814\n"
     ]
    }
   ],
   "source": [
    "# Create a Naive Bayes classifier\n",
    "clf = GaussianNB()\n",
    "\n",
    "# Train the classifier using the training data\n",
    "clf.fit(x_train, y_train)\n",
    "\n",
    "# Make predictions on the test data\n",
    "y_pred = clf.predict(x_val)\n",
    "\n",
    "# Calculate the accuracy of the classifier\n",
    "accuracy = accuracy_score(y_val, y_pred)\n",
    "print(\"Accuracy:\", accuracy)"
   ]
  },
  {
   "cell_type": "code",
   "execution_count": null,
   "id": "720bea33",
   "metadata": {},
   "outputs": [],
   "source": []
  },
  {
   "cell_type": "markdown",
   "id": "a679d0de",
   "metadata": {},
   "source": [
    "### From scratch Implementation"
   ]
  },
  {
   "cell_type": "markdown",
   "id": "24d9e1bf",
   "metadata": {},
   "source": [
    "To implement from scratch, we will group by our train set by class and I will calculate the mean and standard deviation for each column grouped by class. Also, we will calculate the class prior probability, which is simply the number of class elements divided by the total number of elements in the train set."
   ]
  },
  {
   "cell_type": "code",
   "execution_count": 15,
   "id": "0aa9725c",
   "metadata": {},
   "outputs": [],
   "source": [
    "means = x_train.groupby(y_train).apply(np.mean)\n",
    "stds = x_train.groupby(y_train).apply(np.std)\n",
    "\n",
    "probs = x_train.groupby(y_train).apply(lambda x: len(x)/len(x_train))"
   ]
  },
  {
   "cell_type": "code",
   "execution_count": 18,
   "id": "09367b38",
   "metadata": {},
   "outputs": [
    {
     "data": {
      "text/plain": [
       "0    0.319328\n",
       "1    0.394958\n",
       "2    0.285714\n",
       "dtype: float64"
      ]
     },
     "execution_count": 18,
     "metadata": {},
     "output_type": "execute_result"
    }
   ],
   "source": [
    "probs"
   ]
  },
  {
   "cell_type": "raw",
   "id": "73e70891",
   "metadata": {},
   "source": [
    "These are the prior probabilities for all classes."
   ]
  },
  {
   "cell_type": "code",
   "execution_count": 16,
   "id": "95155b4a",
   "metadata": {},
   "outputs": [
    {
     "data": {
      "text/html": [
       "<div>\n",
       "<style scoped>\n",
       "    .dataframe tbody tr th:only-of-type {\n",
       "        vertical-align: middle;\n",
       "    }\n",
       "\n",
       "    .dataframe tbody tr th {\n",
       "        vertical-align: top;\n",
       "    }\n",
       "\n",
       "    .dataframe thead th {\n",
       "        text-align: right;\n",
       "    }\n",
       "</style>\n",
       "<table border=\"1\" class=\"dataframe\">\n",
       "  <thead>\n",
       "    <tr style=\"text-align: right;\">\n",
       "      <th></th>\n",
       "      <th>alcohol</th>\n",
       "      <th>malic_acid</th>\n",
       "      <th>ash</th>\n",
       "      <th>alcalinity_of_ash</th>\n",
       "      <th>magnesium</th>\n",
       "      <th>total_phenols</th>\n",
       "      <th>flavanoids</th>\n",
       "      <th>nonflavanoid_phenols</th>\n",
       "      <th>proanthocyanins</th>\n",
       "      <th>color_intensity</th>\n",
       "      <th>hue</th>\n",
       "      <th>od280/od315_of_diluted_wines</th>\n",
       "      <th>proline</th>\n",
       "    </tr>\n",
       "  </thead>\n",
       "  <tbody>\n",
       "    <tr>\n",
       "      <th>0</th>\n",
       "      <td>13.738421</td>\n",
       "      <td>1.978158</td>\n",
       "      <td>2.441053</td>\n",
       "      <td>16.736842</td>\n",
       "      <td>107.631579</td>\n",
       "      <td>2.843421</td>\n",
       "      <td>3.009211</td>\n",
       "      <td>0.283684</td>\n",
       "      <td>1.926842</td>\n",
       "      <td>5.577632</td>\n",
       "      <td>1.070000</td>\n",
       "      <td>3.140000</td>\n",
       "      <td>1112.815789</td>\n",
       "    </tr>\n",
       "    <tr>\n",
       "      <th>1</th>\n",
       "      <td>12.227872</td>\n",
       "      <td>2.018085</td>\n",
       "      <td>2.206383</td>\n",
       "      <td>19.897872</td>\n",
       "      <td>94.510638</td>\n",
       "      <td>2.227660</td>\n",
       "      <td>2.062553</td>\n",
       "      <td>0.359149</td>\n",
       "      <td>1.652979</td>\n",
       "      <td>3.141915</td>\n",
       "      <td>1.045532</td>\n",
       "      <td>2.797447</td>\n",
       "      <td>512.744681</td>\n",
       "    </tr>\n",
       "    <tr>\n",
       "      <th>2</th>\n",
       "      <td>13.201765</td>\n",
       "      <td>3.329412</td>\n",
       "      <td>2.432941</td>\n",
       "      <td>21.176471</td>\n",
       "      <td>101.558824</td>\n",
       "      <td>1.643235</td>\n",
       "      <td>0.800882</td>\n",
       "      <td>0.434412</td>\n",
       "      <td>1.185000</td>\n",
       "      <td>7.451176</td>\n",
       "      <td>0.683235</td>\n",
       "      <td>1.667059</td>\n",
       "      <td>651.470588</td>\n",
       "    </tr>\n",
       "  </tbody>\n",
       "</table>\n",
       "</div>"
      ],
      "text/plain": [
       "     alcohol  malic_acid       ash  alcalinity_of_ash   magnesium  \\\n",
       "0  13.738421    1.978158  2.441053          16.736842  107.631579   \n",
       "1  12.227872    2.018085  2.206383          19.897872   94.510638   \n",
       "2  13.201765    3.329412  2.432941          21.176471  101.558824   \n",
       "\n",
       "   total_phenols  flavanoids  nonflavanoid_phenols  proanthocyanins  \\\n",
       "0       2.843421    3.009211              0.283684         1.926842   \n",
       "1       2.227660    2.062553              0.359149         1.652979   \n",
       "2       1.643235    0.800882              0.434412         1.185000   \n",
       "\n",
       "   color_intensity       hue  od280/od315_of_diluted_wines      proline  \n",
       "0         5.577632  1.070000                      3.140000  1112.815789  \n",
       "1         3.141915  1.045532                      2.797447   512.744681  \n",
       "2         7.451176  0.683235                      1.667059   651.470588  "
      ]
     },
     "execution_count": 16,
     "metadata": {},
     "output_type": "execute_result"
    }
   ],
   "source": [
    "means"
   ]
  },
  {
   "cell_type": "code",
   "execution_count": 17,
   "id": "9c01f145",
   "metadata": {},
   "outputs": [
    {
     "data": {
      "text/html": [
       "<div>\n",
       "<style scoped>\n",
       "    .dataframe tbody tr th:only-of-type {\n",
       "        vertical-align: middle;\n",
       "    }\n",
       "\n",
       "    .dataframe tbody tr th {\n",
       "        vertical-align: top;\n",
       "    }\n",
       "\n",
       "    .dataframe thead th {\n",
       "        text-align: right;\n",
       "    }\n",
       "</style>\n",
       "<table border=\"1\" class=\"dataframe\">\n",
       "  <thead>\n",
       "    <tr style=\"text-align: right;\">\n",
       "      <th></th>\n",
       "      <th>alcohol</th>\n",
       "      <th>malic_acid</th>\n",
       "      <th>ash</th>\n",
       "      <th>alcalinity_of_ash</th>\n",
       "      <th>magnesium</th>\n",
       "      <th>total_phenols</th>\n",
       "      <th>flavanoids</th>\n",
       "      <th>nonflavanoid_phenols</th>\n",
       "      <th>proanthocyanins</th>\n",
       "      <th>color_intensity</th>\n",
       "      <th>hue</th>\n",
       "      <th>od280/od315_of_diluted_wines</th>\n",
       "      <th>proline</th>\n",
       "    </tr>\n",
       "  </thead>\n",
       "  <tbody>\n",
       "    <tr>\n",
       "      <th>0</th>\n",
       "      <td>0.475270</td>\n",
       "      <td>0.624984</td>\n",
       "      <td>0.252511</td>\n",
       "      <td>2.891951</td>\n",
       "      <td>10.466541</td>\n",
       "      <td>0.329579</td>\n",
       "      <td>0.409900</td>\n",
       "      <td>0.066428</td>\n",
       "      <td>0.413089</td>\n",
       "      <td>1.320963</td>\n",
       "      <td>0.105357</td>\n",
       "      <td>0.362992</td>\n",
       "      <td>241.097693</td>\n",
       "    </tr>\n",
       "    <tr>\n",
       "      <th>1</th>\n",
       "      <td>0.538469</td>\n",
       "      <td>1.088627</td>\n",
       "      <td>0.338786</td>\n",
       "      <td>3.188109</td>\n",
       "      <td>14.928015</td>\n",
       "      <td>0.563802</td>\n",
       "      <td>0.775438</td>\n",
       "      <td>0.131081</td>\n",
       "      <td>0.636489</td>\n",
       "      <td>1.015825</td>\n",
       "      <td>0.206540</td>\n",
       "      <td>0.520942</td>\n",
       "      <td>132.837361</td>\n",
       "    </tr>\n",
       "    <tr>\n",
       "      <th>2</th>\n",
       "      <td>0.496544</td>\n",
       "      <td>1.167509</td>\n",
       "      <td>0.190333</td>\n",
       "      <td>2.195860</td>\n",
       "      <td>11.285574</td>\n",
       "      <td>0.315667</td>\n",
       "      <td>0.305435</td>\n",
       "      <td>0.121054</td>\n",
       "      <td>0.396724</td>\n",
       "      <td>2.392096</td>\n",
       "      <td>0.111454</td>\n",
       "      <td>0.281921</td>\n",
       "      <td>113.659252</td>\n",
       "    </tr>\n",
       "  </tbody>\n",
       "</table>\n",
       "</div>"
      ],
      "text/plain": [
       "    alcohol  malic_acid       ash  alcalinity_of_ash  magnesium  \\\n",
       "0  0.475270    0.624984  0.252511           2.891951  10.466541   \n",
       "1  0.538469    1.088627  0.338786           3.188109  14.928015   \n",
       "2  0.496544    1.167509  0.190333           2.195860  11.285574   \n",
       "\n",
       "   total_phenols  flavanoids  nonflavanoid_phenols  proanthocyanins  \\\n",
       "0       0.329579    0.409900              0.066428         0.413089   \n",
       "1       0.563802    0.775438              0.131081         0.636489   \n",
       "2       0.315667    0.305435              0.121054         0.396724   \n",
       "\n",
       "   color_intensity       hue  od280/od315_of_diluted_wines     proline  \n",
       "0         1.320963  0.105357                      0.362992  241.097693  \n",
       "1         1.015825  0.206540                      0.520942  132.837361  \n",
       "2         2.392096  0.111454                      0.281921  113.659252  "
      ]
     },
     "execution_count": 17,
     "metadata": {},
     "output_type": "execute_result"
    }
   ],
   "source": [
    "stds"
   ]
  },
  {
   "cell_type": "raw",
   "id": "046bbb8b",
   "metadata": {},
   "source": [
    "The last step is to calculate the probability for the Bayesian Theorem. For each element, we will calculate the probability, that it belongs to each class, likelihood. Note, that we are not dividing here by P(B), thus, not getting the real probability value."
   ]
  },
  {
   "cell_type": "code",
   "execution_count": 19,
   "id": "4f60b98c",
   "metadata": {},
   "outputs": [],
   "source": [
    "y_pred = []\n",
    "\n",
    "for elem in range(x_val.shape[0]):\n",
    "    p = {}\n",
    "    \n",
    "    for c in np.unique(y_train):\n",
    "        p[c] = probs.iloc[c]\n",
    "        for index, param in enumerate(x_val.iloc[elem]):\n",
    "            p[c]*= norm.pdf(param, means.iloc[c, index], stds.iloc[c, index])\n",
    "    y_pred.append(pd.Series(p).values.argmax())"
   ]
  },
  {
   "cell_type": "code",
   "execution_count": 20,
   "id": "7111e436",
   "metadata": {},
   "outputs": [
    {
     "name": "stdout",
     "output_type": "stream",
     "text": [
      "Accuracy: 0.9491525423728814\n"
     ]
    }
   ],
   "source": [
    "print('Accuracy:',accuracy_score(y_val, y_pred))"
   ]
  },
  {
   "cell_type": "code",
   "execution_count": null,
   "id": "02274d98",
   "metadata": {},
   "outputs": [],
   "source": []
  }
 ],
 "metadata": {
  "kernelspec": {
   "display_name": "Python 3",
   "language": "python",
   "name": "python3"
  },
  "language_info": {
   "codemirror_mode": {
    "name": "ipython",
    "version": 3
   },
   "file_extension": ".py",
   "mimetype": "text/x-python",
   "name": "python",
   "nbconvert_exporter": "python",
   "pygments_lexer": "ipython3",
   "version": "3.8.8"
  }
 },
 "nbformat": 4,
 "nbformat_minor": 5
}
